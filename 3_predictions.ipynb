{
 "cells": [
  {
   "cell_type": "code",
   "execution_count": null,
   "id": "graphic-impression",
   "metadata": {},
   "outputs": [],
   "source": [
    "from scripts.predict import run_prediction"
   ]
  },
  {
   "cell_type": "code",
   "execution_count": null,
   "id": "massive-likelihood",
   "metadata": {},
   "outputs": [],
   "source": [
    "import json\n",
    "\n",
    "with open('./cuad-data/CUADv1.json') as json_file:\n",
    "    data = json.load(json_file)"
   ]
  },
  {
   "cell_type": "code",
   "execution_count": null,
   "id": "steady-airport",
   "metadata": {},
   "outputs": [],
   "source": [
    "questions = []\n",
    "for i, q in enumerate(data['data'][0]['paragraphs'][0]['qas']):\n",
    "    question = data['data'][0]['paragraphs'][0]['qas'][i]['question']\n",
    "    questions.append(question)\n",
    "contract = data['data'][0]['paragraphs'][0]['context']"
   ]
  },
  {
   "cell_type": "code",
   "execution_count": null,
   "id": "central-beach",
   "metadata": {},
   "outputs": [],
   "source": [
    "with open('output/contract.txt', 'w') as f:\n",
    "    f.write(' '.join(contract.split()))"
   ]
  },
  {
   "cell_type": "code",
   "execution_count": null,
   "id": "dried-bouquet",
   "metadata": {},
   "outputs": [],
   "source": [
    "predictions = run_prediction(questions, contract)"
   ]
  },
  {
   "cell_type": "code",
   "execution_count": null,
   "id": "everyday-duncan",
   "metadata": {},
   "outputs": [],
   "source": [
    "with open('output/predictions.txt', 'w') as f:\n",
    "    for i, p in enumerate(predictions):\n",
    "        f.write(f\"Question {i+1}: {questions[int(p)]}\\nAnswer: {predictions[p]}\\n\\n\")"
   ]
  }
 ],
 "metadata": {
  "kernelspec": {
   "display_name": "conda_python3",
   "language": "python",
   "name": "conda_python3"
  },
  "language_info": {
   "codemirror_mode": {
    "name": "ipython",
    "version": 3
   },
   "file_extension": ".py",
   "mimetype": "text/x-python",
   "name": "python",
   "nbconvert_exporter": "python",
   "pygments_lexer": "ipython3",
   "version": "3.6.13"
  }
 },
 "nbformat": 4,
 "nbformat_minor": 5
}
