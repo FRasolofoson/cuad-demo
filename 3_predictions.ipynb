{
 "cells": [
  {
   "cell_type": "code",
   "execution_count": 1,
   "id": "authentic-parade",
   "metadata": {},
   "outputs": [],
   "source": [
    "from scripts.predict import run_prediction"
   ]
  },
  {
   "cell_type": "code",
   "execution_count": 3,
   "id": "civic-texas",
   "metadata": {},
   "outputs": [],
   "source": [
    "import json\n",
    "\n",
    "with open('./cuad-data/CUADv1.json') as json_file:\n",
    "    data = json.load(json_file)"
   ]
  },
  {
   "cell_type": "code",
   "execution_count": 4,
   "id": "reflected-october",
   "metadata": {},
   "outputs": [],
   "source": [
    "questions = []\n",
    "for i, q in enumerate(data['data'][0]['paragraphs'][0]['qas']):\n",
    "    question = data['data'][0]['paragraphs'][0]['qas'][i]['question']\n",
    "    questions.append(question)\n",
    "contract = data['data'][0]['paragraphs'][0]['context']"
   ]
  },
  {
   "cell_type": "code",
   "execution_count": 5,
   "id": "soviet-recipe",
   "metadata": {},
   "outputs": [
    {
     "name": "stderr",
     "output_type": "stream",
     "text": [
      "convert squad examples to features: 100%|██████████| 41/41 [00:40<00:00,  1.02it/s]\n",
      "add example index and unique id: 100%|██████████| 41/41 [00:00<00:00, 38722.46it/s]\n"
     ]
    }
   ],
   "source": [
    "predictions = run_prediction(questions, contract)"
   ]
  },
  {
   "cell_type": "code",
   "execution_count": 10,
   "id": "endless-revolution",
   "metadata": {},
   "outputs": [],
   "source": [
    "with open('scripts/predictions.txt', 'w') as f:\n",
    "    for i, p in enumerate(predictions):\n",
    "        f.write(f\"Question {i+1}: {questions[int(p)]}\\nAnswer: {predictions[p]}\\n\\n\")"
   ]
  }
 ],
 "metadata": {
  "kernelspec": {
   "display_name": "conda_python3",
   "language": "python",
   "name": "conda_python3"
  },
  "language_info": {
   "codemirror_mode": {
    "name": "ipython",
    "version": 3
   },
   "file_extension": ".py",
   "mimetype": "text/x-python",
   "name": "python",
   "nbconvert_exporter": "python",
   "pygments_lexer": "ipython3",
   "version": "3.6.13"
  }
 },
 "nbformat": 4,
 "nbformat_minor": 5
}
