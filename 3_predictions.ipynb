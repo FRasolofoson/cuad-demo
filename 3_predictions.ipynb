{
 "cells": [
  {
   "cell_type": "code",
   "execution_count": 40,
   "id": "recent-marks",
   "metadata": {},
   "outputs": [],
   "source": [
    "from predict import run_prediction"
   ]
  },
  {
   "cell_type": "code",
   "execution_count": 41,
   "id": "colored-harvard",
   "metadata": {},
   "outputs": [],
   "source": [
    "import json\n",
    "\n",
    "with open('./cuad-data/data/CUADv1.json') as json_file:\n",
    "    data = json.load(json_file)"
   ]
  },
  {
   "cell_type": "code",
   "execution_count": 44,
   "id": "minus-hydrogen",
   "metadata": {},
   "outputs": [],
   "source": [
    "question = data['data'][0]['paragraphs'][0]['qas'][2]['question']\n",
    "paragraph = data['data'][0]['paragraphs'][0]['context']"
   ]
  },
  {
   "cell_type": "code",
   "execution_count": 45,
   "id": "massive-fortune",
   "metadata": {},
   "outputs": [
    {
     "name": "stderr",
     "output_type": "stream",
     "text": [
      "convert squad examples to features: 100%|██████████| 1/1 [00:01<00:00,  1.07s/it]\n",
      "add example index and unique id: 100%|██████████| 1/1 [00:00<00:00, 10922.67it/s]\n"
     ]
    }
   ],
   "source": [
    "predictions = run_prediction([question], paragraph)"
   ]
  },
  {
   "cell_type": "code",
   "execution_count": 50,
   "id": "light-banking",
   "metadata": {},
   "outputs": [
    {
     "name": "stdout",
     "output_type": "stream",
     "text": [
      "Question: Highlight the parts (if any) of this contract related to \"Document Name\" that should be reviewed by a lawyer. Details: The name of the contract\n",
      "Answer: 7th day of September, 1999.\n",
      "\n"
     ]
    }
   ],
   "source": [
    "for p in predictions:\n",
    "    print(f\"Question: {questions[int(p)]}\\nAnswer: {predictions[p]}\\n\")"
   ]
  },
  {
   "cell_type": "code",
   "execution_count": null,
   "id": "bacterial-illness",
   "metadata": {},
   "outputs": [],
   "source": []
  }
 ],
 "metadata": {
  "kernelspec": {
   "display_name": "conda_python3",
   "language": "python",
   "name": "conda_python3"
  },
  "language_info": {
   "codemirror_mode": {
    "name": "ipython",
    "version": 3
   },
   "file_extension": ".py",
   "mimetype": "text/x-python",
   "name": "python",
   "nbconvert_exporter": "python",
   "pygments_lexer": "ipython3",
   "version": "3.6.13"
  }
 },
 "nbformat": 4,
 "nbformat_minor": 5
}
