{
 "cells": [
  {
   "cell_type": "code",
   "execution_count": 19,
   "id": "amber-refrigerator",
   "metadata": {},
   "outputs": [],
   "source": [
    "from helpers import run_prediction"
   ]
  },
  {
   "cell_type": "code",
   "execution_count": 20,
   "id": "prime-corps",
   "metadata": {},
   "outputs": [],
   "source": [
    "import json\n",
    "\n",
    "with open('./cuad-data/data/CUADv1.json') as json_file:\n",
    "    data = json.load(json_file)"
   ]
  },
  {
   "cell_type": "code",
   "execution_count": 25,
   "id": "accepting-planet",
   "metadata": {},
   "outputs": [
    {
     "name": "stderr",
     "output_type": "stream",
     "text": [
      "convert squad examples to features: 100%|██████████| 10/10 [00:09<00:00,  1.04it/s]\n",
      "add example index and unique id: 100%|██████████| 10/10 [00:00<00:00, 36157.79it/s]\n"
     ]
    }
   ],
   "source": [
    "questions = []\n",
    "for i in range(10):\n",
    "    questions.append(data['data'][0]['paragraphs'][0]['qas'][i]['question'])\n",
    "    \n",
    "paragraph = data['data'][0]['paragraphs'][0]['context']\n",
    "predictions = run_prediction(questions, paragraph)"
   ]
  },
  {
   "cell_type": "code",
   "execution_count": 26,
   "id": "liked-inclusion",
   "metadata": {},
   "outputs": [
    {
     "name": "stdout",
     "output_type": "stream",
     "text": [
      "Question: Highlight the parts (if any) of this contract related to \"Document Name\" that should be reviewed by a lawyer. Details: The name of the contract\n",
      "Answer: DISTRIBUTOR AGREEMENT\n",
      "\n",
      "Question: Highlight the parts (if any) of this contract related to \"Parties\" that should be reviewed by a lawyer. Details: The two or more parties who signed the contract\n",
      "Answer: (\"Distributor\")\n",
      "\n",
      "Question: Highlight the parts (if any) of this contract related to \"Agreement Date\" that should be reviewed by a lawyer. Details: The date of the contract\n",
      "Answer: 7th day of September, 1999.\n",
      "\n",
      "Question: Highlight the parts (if any) of this contract related to \"Effective Date\" that should be reviewed by a lawyer. Details: The date when the contract is effective \n",
      "Answer: The term of this Agreement shall be ten (10) years (the \"Term\") which shall commence on the date upon which the Company delivers to Distributor the last Sample, as defined hereinafter.\n",
      "\n",
      "Question: Highlight the parts (if any) of this contract related to \"Expiration Date\" that should be reviewed by a lawyer. Details: On what date will the contract's initial term expire?\n",
      "Answer: The term of this Agreement shall be ten (10) years (the \"Term\") which shall commence on the date upon which the Company delivers to Distributor the last Sample, as defined hereinafter.\n",
      "\n",
      "Question: Highlight the parts (if any) of this contract related to \"Renewal Term\" that should be reviewed by a lawyer. Details: What is the renewal term after the initial term expires? This includes automatic extensions and unilateral extensions with prior notice.\n",
      "Answer: If Distributor complies with all of the terms of this Agreement, the Agreement shall be renewable on an annual basis for one (1) year terms for up to another ten (10) years on the same terms and conditions as set forth herein.\n",
      "\n",
      "Question: Highlight the parts (if any) of this contract related to \"Notice Period To Terminate Renewal\" that should be reviewed by a lawyer. Details: What is the notice period required to terminate renewal?\n",
      "Answer: If Distributor complies with all of the terms of this Agreement, the Agreement shall be renewable on an annual basis for one (1) year terms for up to another ten (10) years on the same terms and conditions as set forth herein.\n",
      "\n",
      "Question: Highlight the parts (if any) of this contract related to \"Governing Law\" that should be reviewed by a lawyer. Details: Which state/country's law governs the interpretation of the contract?\n",
      "Answer: This Agreement is to be construed according to the laws of the State of Illinois.\n",
      "\n",
      "Question: Highlight the parts (if any) of this contract related to \"Most Favored Nation\" that should be reviewed by a lawyer. Details: Is there a clause that if a third party gets better terms on the licensing or sale of technology/goods/services described in the contract, the buyer of such technology/goods/services under the contract shall be entitled to those better terms?\n",
      "Answer: \n",
      "\n",
      "Question: Highlight the parts (if any) of this contract related to \"Non-Compete\" that should be reviewed by a lawyer. Details: Is there a restriction on the ability of a party to compete with the counterparty or operate in a certain geography or business or technology sector? \n",
      "Answer: Term of the Agreement and for a period of eighteen (18) months thereafter, nor will Distributor solicit any customer or potential customer of Company to purchase a competitive product during that period.\n",
      "\n"
     ]
    }
   ],
   "source": [
    "for p in predictions:\n",
    "    print(f\"Question: {questions[int(p)]}\\nAnswer: {predictions[p]}\\n\")"
   ]
  },
  {
   "cell_type": "code",
   "execution_count": null,
   "id": "experimental-termination",
   "metadata": {},
   "outputs": [],
   "source": []
  }
 ],
 "metadata": {
  "kernelspec": {
   "display_name": "conda_python3",
   "language": "python",
   "name": "conda_python3"
  },
  "language_info": {
   "codemirror_mode": {
    "name": "ipython",
    "version": 3
   },
   "file_extension": ".py",
   "mimetype": "text/x-python",
   "name": "python",
   "nbconvert_exporter": "python",
   "pygments_lexer": "ipython3",
   "version": "3.6.13"
  }
 },
 "nbformat": 4,
 "nbformat_minor": 5
}
