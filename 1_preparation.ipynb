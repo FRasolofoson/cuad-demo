{
 "cells": [
  {
   "cell_type": "code",
   "execution_count": 9,
   "id": "racial-modern",
   "metadata": {},
   "outputs": [
    {
     "name": "stdout",
     "output_type": "stream",
     "text": [
      "Cloning into 'cuad'...\n",
      "remote: Enumerating objects: 24, done.\u001b[K\n",
      "remote: Counting objects: 100% (24/24), done.\u001b[K\n",
      "remote: Compressing objects: 100% (22/22), done.\u001b[K\n",
      "remote: Total 24 (delta 7), reused 0 (delta 0), pack-reused 0\u001b[K\n",
      "Unpacking objects: 100% (24/24), done.\n"
     ]
    }
   ],
   "source": [
    "!git clone https://github.com/TheAtticusProject/cuad.git"
   ]
  },
  {
   "cell_type": "code",
   "execution_count": 10,
   "id": "pacific-burke",
   "metadata": {},
   "outputs": [],
   "source": [
    "!mv cuad cuad-data"
   ]
  },
  {
   "cell_type": "code",
   "execution_count": 11,
   "id": "forward-youth",
   "metadata": {},
   "outputs": [
    {
     "name": "stdout",
     "output_type": "stream",
     "text": [
      "Archive:  cuad-data/data.zip\n",
      "  inflating: cuad-data/data/CUADv1.json  \n",
      "  inflating: cuad-data/data/test.json  \n",
      "  inflating: cuad-data/data/train_separate_questions.json  \n"
     ]
    }
   ],
   "source": [
    "!unzip cuad-data/data.zip -d cuad-data/data/"
   ]
  },
  {
   "cell_type": "code",
   "execution_count": 12,
   "id": "built-fleet",
   "metadata": {},
   "outputs": [],
   "source": [
    "!mkdir cuad-models"
   ]
  },
  {
   "cell_type": "code",
   "execution_count": 13,
   "id": "numerical-precipitation",
   "metadata": {},
   "outputs": [
    {
     "name": "stdout",
     "output_type": "stream",
     "text": [
      "  % Total    % Received % Xferd  Average Speed   Time    Time     Time  Current\n",
      "                                 Dload  Upload   Total   Spent    Left  Speed\n",
      "100  426M  100  426M    0     0  18.2M      0  0:00:23  0:00:23 --:--:-- 19.3M\n"
     ]
    }
   ],
   "source": [
    "!curl https://zenodo.org/record/4599830/files/roberta-base.zip?download=1 --output cuad-models/roberta-base.zip"
   ]
  },
  {
   "cell_type": "code",
   "execution_count": 14,
   "id": "failing-conducting",
   "metadata": {},
   "outputs": [
    {
     "name": "stdout",
     "output_type": "stream",
     "text": [
      "Archive:  cuad-models/roberta-base.zip\n",
      "   creating: cuad-models/roberta-base/\n",
      "  inflating: cuad-models/roberta-base/special_tokens_map.json  \n",
      "  inflating: cuad-models/roberta-base/tokenizer_config.json  \n",
      "  inflating: cuad-models/roberta-base/pytorch_model.bin  \n",
      "  inflating: cuad-models/roberta-base/training_args.bin  \n",
      "  inflating: cuad-models/roberta-base/vocab.json  \n",
      "  inflating: cuad-models/roberta-base/predictions_.json  \n",
      "  inflating: cuad-models/roberta-base/merges.txt  \n",
      "  inflating: cuad-models/roberta-base/nbest_predictions_.json  \n",
      "  inflating: cuad-models/roberta-base/null_odds_.json  \n",
      "  inflating: cuad-models/roberta-base/config.json  \n"
     ]
    }
   ],
   "source": [
    "!unzip cuad-models/roberta-base.zip -d cuad-models/"
   ]
  },
  {
   "cell_type": "code",
   "execution_count": 15,
   "id": "cleared-scholarship",
   "metadata": {},
   "outputs": [
    {
     "name": "stdout",
     "output_type": "stream",
     "text": [
      "Requirement already satisfied: torch==1.7.0 in /home/ec2-user/anaconda3/envs/python3/lib/python3.6/site-packages (1.7.0)\n",
      "Requirement already satisfied: numpy in /home/ec2-user/anaconda3/envs/python3/lib/python3.6/site-packages (from torch==1.7.0) (1.19.5)\n",
      "Requirement already satisfied: typing-extensions in /home/ec2-user/anaconda3/envs/python3/lib/python3.6/site-packages (from torch==1.7.0) (3.7.4.3)\n",
      "Requirement already satisfied: dataclasses in /home/ec2-user/anaconda3/envs/python3/lib/python3.6/site-packages (from torch==1.7.0) (0.8)\n",
      "Requirement already satisfied: future in /home/ec2-user/anaconda3/envs/python3/lib/python3.6/site-packages (from torch==1.7.0) (0.18.2)\n"
     ]
    }
   ],
   "source": [
    "!pip install torch==1.7.0"
   ]
  },
  {
   "cell_type": "code",
   "execution_count": 16,
   "id": "standing-sampling",
   "metadata": {},
   "outputs": [
    {
     "name": "stdout",
     "output_type": "stream",
     "text": [
      "Requirement already satisfied: transformers in /home/ec2-user/anaconda3/envs/python3/lib/python3.6/site-packages (4.4.2)\n",
      "Requirement already satisfied: numpy>=1.17 in /home/ec2-user/anaconda3/envs/python3/lib/python3.6/site-packages (from transformers) (1.19.5)\n",
      "Requirement already satisfied: sacremoses in /home/ec2-user/anaconda3/envs/python3/lib/python3.6/site-packages (from transformers) (0.0.43)\n",
      "Requirement already satisfied: tqdm>=4.27 in /home/ec2-user/anaconda3/envs/python3/lib/python3.6/site-packages (from transformers) (4.59.0)\n",
      "Requirement already satisfied: tokenizers<0.11,>=0.10.1 in /home/ec2-user/anaconda3/envs/python3/lib/python3.6/site-packages (from transformers) (0.10.1)\n",
      "Requirement already satisfied: requests in /home/ec2-user/anaconda3/envs/python3/lib/python3.6/site-packages (from transformers) (2.25.1)\n",
      "Requirement already satisfied: filelock in /home/ec2-user/anaconda3/envs/python3/lib/python3.6/site-packages (from transformers) (3.0.12)\n",
      "Requirement already satisfied: dataclasses in /home/ec2-user/anaconda3/envs/python3/lib/python3.6/site-packages (from transformers) (0.8)\n",
      "Requirement already satisfied: packaging in /home/ec2-user/anaconda3/envs/python3/lib/python3.6/site-packages (from transformers) (20.9)\n",
      "Requirement already satisfied: regex!=2019.12.17 in /home/ec2-user/anaconda3/envs/python3/lib/python3.6/site-packages (from transformers) (2020.11.13)\n",
      "Requirement already satisfied: importlib-metadata in /home/ec2-user/anaconda3/envs/python3/lib/python3.6/site-packages (from transformers) (3.7.0)\n",
      "Requirement already satisfied: zipp>=0.5 in /home/ec2-user/anaconda3/envs/python3/lib/python3.6/site-packages (from importlib-metadata->transformers) (3.4.0)\n",
      "Requirement already satisfied: typing-extensions>=3.6.4 in /home/ec2-user/anaconda3/envs/python3/lib/python3.6/site-packages (from importlib-metadata->transformers) (3.7.4.3)\n",
      "Requirement already satisfied: pyparsing>=2.0.2 in /home/ec2-user/anaconda3/envs/python3/lib/python3.6/site-packages (from packaging->transformers) (2.4.7)\n",
      "Requirement already satisfied: urllib3<1.27,>=1.21.1 in /home/ec2-user/anaconda3/envs/python3/lib/python3.6/site-packages (from requests->transformers) (1.26.3)\n",
      "Requirement already satisfied: chardet<5,>=3.0.2 in /home/ec2-user/anaconda3/envs/python3/lib/python3.6/site-packages (from requests->transformers) (3.0.4)\n",
      "Requirement already satisfied: idna<3,>=2.5 in /home/ec2-user/anaconda3/envs/python3/lib/python3.6/site-packages (from requests->transformers) (2.10)\n",
      "Requirement already satisfied: certifi>=2017.4.17 in /home/ec2-user/anaconda3/envs/python3/lib/python3.6/site-packages (from requests->transformers) (2020.12.5)\n",
      "Requirement already satisfied: joblib in /home/ec2-user/anaconda3/envs/python3/lib/python3.6/site-packages (from sacremoses->transformers) (1.0.1)\n",
      "Requirement already satisfied: six in /home/ec2-user/anaconda3/envs/python3/lib/python3.6/site-packages (from sacremoses->transformers) (1.15.0)\n",
      "Requirement already satisfied: click in /home/ec2-user/anaconda3/envs/python3/lib/python3.6/site-packages (from sacremoses->transformers) (7.1.2)\n"
     ]
    }
   ],
   "source": [
    "!pip install transformers"
   ]
  },
  {
   "cell_type": "code",
   "execution_count": null,
   "id": "completed-brooks",
   "metadata": {},
   "outputs": [],
   "source": []
  }
 ],
 "metadata": {
  "kernelspec": {
   "display_name": "conda_python3",
   "language": "python",
   "name": "conda_python3"
  },
  "language_info": {
   "codemirror_mode": {
    "name": "ipython",
    "version": 3
   },
   "file_extension": ".py",
   "mimetype": "text/x-python",
   "name": "python",
   "nbconvert_exporter": "python",
   "pygments_lexer": "ipython3",
   "version": "3.6.13"
  }
 },
 "nbformat": 4,
 "nbformat_minor": 5
}
