{
 "cells": [
  {
   "cell_type": "code",
   "execution_count": null,
   "id": "cubic-nowhere",
   "metadata": {},
   "outputs": [],
   "source": [
    "!git clone https://github.com/TheAtticusProject/cuad.git"
   ]
  },
  {
   "cell_type": "code",
   "execution_count": null,
   "id": "placed-label",
   "metadata": {},
   "outputs": [],
   "source": [
    "!mv cuad cuad-training"
   ]
  },
  {
   "cell_type": "code",
   "execution_count": null,
   "id": "durable-cuisine",
   "metadata": {},
   "outputs": [],
   "source": [
    "!unzip cuad-training/data.zip -d cuad-data/"
   ]
  },
  {
   "cell_type": "code",
   "execution_count": null,
   "id": "municipal-doctrine",
   "metadata": {},
   "outputs": [],
   "source": [
    "!mkdir cuad-models"
   ]
  },
  {
   "cell_type": "code",
   "execution_count": null,
   "id": "theoretical-humor",
   "metadata": {},
   "outputs": [],
   "source": [
    "!curl https://zenodo.org/record/4599830/files/roberta-base.zip?download=1 --output cuad-models/roberta-base.zip"
   ]
  },
  {
   "cell_type": "code",
   "execution_count": null,
   "id": "demanding-importance",
   "metadata": {},
   "outputs": [],
   "source": [
    "!unzip cuad-models/roberta-base.zip -d cuad-models/"
   ]
  },
  {
   "cell_type": "code",
   "execution_count": null,
   "id": "initial-movement",
   "metadata": {},
   "outputs": [],
   "source": [
    "!pip install torch==1.7.0"
   ]
  },
  {
   "cell_type": "code",
   "execution_count": null,
   "id": "optical-paragraph",
   "metadata": {},
   "outputs": [],
   "source": [
    "!pip install transformers"
   ]
  }
 ],
 "metadata": {
  "kernelspec": {
   "display_name": "conda_python3",
   "language": "python",
   "name": "conda_python3"
  },
  "language_info": {
   "codemirror_mode": {
    "name": "ipython",
    "version": 3
   },
   "file_extension": ".py",
   "mimetype": "text/x-python",
   "name": "python",
   "nbconvert_exporter": "python",
   "pygments_lexer": "ipython3",
   "version": "3.6.13"
  }
 },
 "nbformat": 4,
 "nbformat_minor": 5
}
