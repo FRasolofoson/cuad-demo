{
 "cells": [
  {
   "cell_type": "code",
   "execution_count": null,
   "id": "negative-tract",
   "metadata": {},
   "outputs": [],
   "source": [
    "!git clone https://github.com/TheAtticusProject/cuad.git"
   ]
  },
  {
   "cell_type": "code",
   "execution_count": null,
   "id": "classified-mortality",
   "metadata": {},
   "outputs": [],
   "source": [
    "!mv cuad cuad-training"
   ]
  },
  {
   "cell_type": "code",
   "execution_count": null,
   "id": "normal-tissue",
   "metadata": {},
   "outputs": [],
   "source": [
    "!unzip cuad-training/data.zip -d cuad-data/"
   ]
  },
  {
   "cell_type": "code",
   "execution_count": null,
   "id": "soviet-kuwait",
   "metadata": {},
   "outputs": [],
   "source": [
    "!mkdir cuad-models"
   ]
  },
  {
   "cell_type": "code",
   "execution_count": null,
   "id": "interested-decade",
   "metadata": {},
   "outputs": [],
   "source": [
    "!curl https://zenodo.org/record/4599830/files/roberta-base.zip?download=1 --output cuad-models/roberta-base.zip"
   ]
  },
  {
   "cell_type": "code",
   "execution_count": null,
   "id": "public-denver",
   "metadata": {},
   "outputs": [],
   "source": [
    "!unzip cuad-models/roberta-base.zip -d cuad-models/"
   ]
  },
  {
   "cell_type": "code",
   "execution_count": null,
   "id": "random-ladder",
   "metadata": {},
   "outputs": [],
   "source": [
    "!pip install torch"
   ]
  },
  {
   "cell_type": "code",
   "execution_count": null,
   "id": "mexican-attitude",
   "metadata": {},
   "outputs": [],
   "source": [
    "!pip install transformers"
   ]
  }
 ],
 "metadata": {
  "kernelspec": {
   "display_name": "conda_python3",
   "language": "python",
   "name": "conda_python3"
  },
  "language_info": {
   "codemirror_mode": {
    "name": "ipython",
    "version": 3
   },
   "file_extension": ".py",
   "mimetype": "text/x-python",
   "name": "python",
   "nbconvert_exporter": "python",
   "pygments_lexer": "ipython3",
   "version": "3.6.13"
  }
 },
 "nbformat": 4,
 "nbformat_minor": 5
}
